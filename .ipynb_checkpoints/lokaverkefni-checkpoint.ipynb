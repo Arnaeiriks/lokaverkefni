{
 "cells": [
  {
   "cell_type": "markdown",
   "metadata": {
    "id": "lAvYDx3h4Jz_"
   },
   "source": [
    "# 1 Leiðarval hjá Strætó\n",
    "Í þessu verkefni á að búa til leitarvél fyrir Strætó, notast verður við raungögn frá Strætó\n",
    "sem er að finna á\n",
    "https://straeto.is/um-straeto/opin-rafraen-gogn.\n",
    "Til einföldunar munuð þið nota skrána gtfs.zip sem er að finna á Canvas síðu námskeiðsins til að tryggja að\n",
    "allir noti sömu útgáfu.\n"
   ]
  },
  {
   "cell_type": "markdown",
   "metadata": {
    "id": "vclL8JTa4KNx"
   },
   "source": [
    "## 2.1 Inntak\n",
    "Inntakið er tímatafla strætó, listi yfir leiðir, vagna og stoppistöðvar. Við skilgreinum netið\n",
    "G á eftirfarandi hátt. Hver einasta stoppistöð verður hnútur.\n",
    "Ef vagn ekur á milli stoppistöðva x og y á tímum t1 og t2 með engum öðrum stoppum á\n",
    "milli þá búum við til nýjan hnút v með leggina (x, v), (v, y) og merkjum þá með tímunum t_1 og t_2. Hnúturinn v geymir upplýsingar um hvaða vagni sá hnútur tilheyrir, athugið þessi\n",
    "hnútur verður ekki endurnýttur.\n",
    "Fyrir leiðina sem er sýnd á myndinni þá samsvarar hún fimm hnútum. Hnútar 1, 3, 5\n",
    "eru stoppistöðvarnar Hlemmur B, Sólfarið og Harpa. Hnútur 2 tengir saman Hlemm B og\n",
    "Sólfarið og leggirnir hafa tímann 10:22 og 10:25. Hnútur 4 tengir saman Sólfarið og Hörpu,\n",
    "fyrri leggurinn hefur tímann 10:25 (ekki sýnilegt á mynd) og sá seinni 10:26. Þetta er dæmi\n",
    "um löglegan veg þar sem allir leggir samsvara vögnum sem við getum tekið og tímarnir\n",
    "stemma, þ.e. eru í vaxandi röð"
   ]
  },
  {
   "cell_type": "markdown",
   "metadata": {
    "id": "7XHW7-bM4KZg"
   },
   "source": [
    "## 2.2 Reiknirit\n",
    "Einfaldasta tilfellið sem við viljum leysa þá fá um við par af stoppistöðvum og tíma, (x, y, t)\n",
    "og úttakið er leið í strætókerfinu frá x til y sem fer frá x á tíma t′ ≥ t og lágmarkar\n",
    "komutímann á áfangastað. Ef við skiptum um strætisvagn þá samsvarar það því að \"bíða\"á\n",
    "hnútnum sem er á stoppistöð og taka legg sem tilheyrir öðrum vagni heldur en þeim sem\n",
    "við komum með.\n",
    "Til að leysa þetta verkefni er hægt að nota reiknirit Dijkstra með einni breytingu, í stað\n",
    "þess að slaka (RELAX aðferðin) á leggjum með því að leggja saman vigtir þá notum við\n",
    "komutímann á leggnum ef leggurinn er löglegur, þ.e. ef (u, v) er leggurinn sem við skoðum\n",
    "með tímann t þá setjum við d[v] = min(d[v], t) ef t ≥ d[u].\n"
   ]
  },
  {
   "cell_type": "markdown",
   "metadata": {
    "id": "HlNQ7JG95ai9"
   },
   "source": [
    "# 2.3 Verkþættir\n",
    "## 2.3.1 Þáttun (⋆)\n",
    "Gögnin fyrir strætó eru gefin á GTFS formi, lýsingu á GTFS er að finna á https://gtfs.\n",
    "org/schedule/reference/. Til að búa til netið þarf að þátta (e. parse) gögnin, þ.e. lesa\n",
    "þau inn og tengja saman á skynsamlegan hátt.\n",
    "\n",
    "Til einföldunar ætlum við eingöngu að nota eftirfarandi hluta af gögnunum\n",
    "\n",
    "agency_id=1 eingöngu leiðir sem tilheyra Strætó BS merktar ST.*\n",
    "\n",
    "Leiðirnar eru ólíkar milli vikudaga, gefum okkur að við séum að vinna með virka daga\n",
    "og sleppum næturstrætó (leiðir 101-106). Það má líka sleppa helgidögum, þ.e. sem er\n",
    "skilgreint í calendar_dates.csv skráni.\n",
    "\n",
    "Sumar leiðir eru í pöntunarþjónustu, við höldum eingöngu þeim leggjum sem eru með\n",
    "pickup_type=0 í stop_times.csv."
   ]
  },
  {
   "cell_type": "markdown",
   "metadata": {
    "tags": []
   },
   "source": [
    "#### import"
   ]
  },
  {
   "cell_type": "code",
   "execution_count": 1,
   "metadata": {
    "tags": []
   },
   "outputs": [],
   "source": [
    "import pandas as pd\n",
    "from datetime import datetime, timedelta\n",
    "import heapq"
   ]
  },
  {
   "cell_type": "markdown",
   "metadata": {},
   "source": [
    "#### Hjálparföll"
   ]
  },
  {
   "cell_type": "code",
   "execution_count": 2,
   "metadata": {
    "tags": []
   },
   "outputs": [],
   "source": [
    "# fall til að finna út hvort við séum með tvö id's með sama nafn\n",
    "def find_unique_stop_ids(df, stop_name):\n",
    "    filtered_df = df[df['stop_name'] == stop_name]\n",
    "    unique_stop_ids = filtered_df['stop_id'].unique()\n",
    "    return unique_stop_ids"
   ]
  },
  {
   "cell_type": "code",
   "execution_count": 3,
   "metadata": {
    "colab": {
     "base_uri": "https://localhost:8080/",
     "height": 617
    },
    "id": "GlPcIXBIsCsm",
    "outputId": "4c0c9389-39ec-4cfe-c380-0a20bed7866c",
    "tags": []
   },
   "outputs": [
    {
     "data": {
      "text/html": [
       "<div>\n",
       "<style scoped>\n",
       "    .dataframe tbody tr th:only-of-type {\n",
       "        vertical-align: middle;\n",
       "    }\n",
       "\n",
       "    .dataframe tbody tr th {\n",
       "        vertical-align: top;\n",
       "    }\n",
       "\n",
       "    .dataframe thead th {\n",
       "        text-align: right;\n",
       "    }\n",
       "</style>\n",
       "<table border=\"1\" class=\"dataframe\">\n",
       "  <thead>\n",
       "    <tr style=\"text-align: right;\">\n",
       "      <th></th>\n",
       "      <th>trip_id</th>\n",
       "      <th>arrival_time</th>\n",
       "      <th>departure_time</th>\n",
       "      <th>stop_id</th>\n",
       "      <th>stop_sequence</th>\n",
       "      <th>stop_name</th>\n",
       "      <th>stop_lat</th>\n",
       "      <th>stop_lon</th>\n",
       "      <th>trip_headsign</th>\n",
       "      <th>direction_id</th>\n",
       "      <th>block_id</th>\n",
       "      <th>route_short_name</th>\n",
       "      <th>next_stop_id</th>\n",
       "      <th>next_arrival_time</th>\n",
       "      <th>is_first_stop</th>\n",
       "      <th>is_last_stop</th>\n",
       "    </tr>\n",
       "  </thead>\n",
       "  <tbody>\n",
       "    <tr>\n",
       "      <th>60</th>\n",
       "      <td>524766</td>\n",
       "      <td>13:27:00</td>\n",
       "      <td>13:27:00</td>\n",
       "      <td>90020295</td>\n",
       "      <td>1</td>\n",
       "      <td>Hlemmur B</td>\n",
       "      <td>64.143719</td>\n",
       "      <td>-21.915081</td>\n",
       "      <td>Hfj. Skarðshlíð</td>\n",
       "      <td>0</td>\n",
       "      <td>4134_1-G</td>\n",
       "      <td>1</td>\n",
       "      <td>90000052.0</td>\n",
       "      <td>13:28:00</td>\n",
       "      <td>True</td>\n",
       "      <td>False</td>\n",
       "    </tr>\n",
       "    <tr>\n",
       "      <th>153</th>\n",
       "      <td>524766</td>\n",
       "      <td>13:28:00</td>\n",
       "      <td>13:28:00</td>\n",
       "      <td>90000052</td>\n",
       "      <td>2</td>\n",
       "      <td>Barónsstígur</td>\n",
       "      <td>64.144475</td>\n",
       "      <td>-21.918978</td>\n",
       "      <td>Hfj. Skarðshlíð</td>\n",
       "      <td>0</td>\n",
       "      <td>4134_1-G</td>\n",
       "      <td>1</td>\n",
       "      <td>90000821.0</td>\n",
       "      <td>13:29:00</td>\n",
       "      <td>False</td>\n",
       "      <td>False</td>\n",
       "    </tr>\n",
       "    <tr>\n",
       "      <th>246</th>\n",
       "      <td>524766</td>\n",
       "      <td>13:29:00</td>\n",
       "      <td>13:29:00</td>\n",
       "      <td>90000821</td>\n",
       "      <td>3</td>\n",
       "      <td>Bíó Paradís</td>\n",
       "      <td>64.145639</td>\n",
       "      <td>-21.924854</td>\n",
       "      <td>Hfj. Skarðshlíð</td>\n",
       "      <td>0</td>\n",
       "      <td>4134_1-G</td>\n",
       "      <td>1</td>\n",
       "      <td>90000054.0</td>\n",
       "      <td>13:30:00</td>\n",
       "      <td>False</td>\n",
       "      <td>False</td>\n",
       "    </tr>\n",
       "    <tr>\n",
       "      <th>339</th>\n",
       "      <td>524766</td>\n",
       "      <td>13:30:00</td>\n",
       "      <td>13:30:00</td>\n",
       "      <td>90000054</td>\n",
       "      <td>4</td>\n",
       "      <td>Þjóðleikhúsið</td>\n",
       "      <td>64.146842</td>\n",
       "      <td>-21.930941</td>\n",
       "      <td>Hfj. Skarðshlíð</td>\n",
       "      <td>0</td>\n",
       "      <td>4134_1-G</td>\n",
       "      <td>1</td>\n",
       "      <td>90000055.0</td>\n",
       "      <td>13:32:00</td>\n",
       "      <td>False</td>\n",
       "      <td>False</td>\n",
       "    </tr>\n",
       "    <tr>\n",
       "      <th>432</th>\n",
       "      <td>524766</td>\n",
       "      <td>13:32:00</td>\n",
       "      <td>13:32:00</td>\n",
       "      <td>90000055</td>\n",
       "      <td>5</td>\n",
       "      <td>Lækjartorg A</td>\n",
       "      <td>64.147465</td>\n",
       "      <td>-21.936231</td>\n",
       "      <td>Hfj. Skarðshlíð</td>\n",
       "      <td>0</td>\n",
       "      <td>4134_1-G</td>\n",
       "      <td>1</td>\n",
       "      <td>90000056.0</td>\n",
       "      <td>13:33:00</td>\n",
       "      <td>False</td>\n",
       "      <td>False</td>\n",
       "    </tr>\n",
       "    <tr>\n",
       "      <th>...</th>\n",
       "      <td>...</td>\n",
       "      <td>...</td>\n",
       "      <td>...</td>\n",
       "      <td>...</td>\n",
       "      <td>...</td>\n",
       "      <td>...</td>\n",
       "      <td>...</td>\n",
       "      <td>...</td>\n",
       "      <td>...</td>\n",
       "      <td>...</td>\n",
       "      <td>...</td>\n",
       "      <td>...</td>\n",
       "      <td>...</td>\n",
       "      <td>...</td>\n",
       "      <td>...</td>\n",
       "      <td>...</td>\n",
       "    </tr>\n",
       "    <tr>\n",
       "      <th>3285192</th>\n",
       "      <td>529211</td>\n",
       "      <td>15:01:00</td>\n",
       "      <td>15:01:00</td>\n",
       "      <td>90000061</td>\n",
       "      <td>31</td>\n",
       "      <td>Mýrargata</td>\n",
       "      <td>64.151683</td>\n",
       "      <td>-21.949006</td>\n",
       "      <td>Grandi</td>\n",
       "      <td>1</td>\n",
       "      <td>4409_14-F</td>\n",
       "      <td>14</td>\n",
       "      <td>90000062.0</td>\n",
       "      <td>15:03:00</td>\n",
       "      <td>False</td>\n",
       "      <td>False</td>\n",
       "    </tr>\n",
       "    <tr>\n",
       "      <th>3285285</th>\n",
       "      <td>529211</td>\n",
       "      <td>15:03:00</td>\n",
       "      <td>15:03:00</td>\n",
       "      <td>90000062</td>\n",
       "      <td>32</td>\n",
       "      <td>Grandagarður</td>\n",
       "      <td>64.153109</td>\n",
       "      <td>-21.949784</td>\n",
       "      <td>Grandi</td>\n",
       "      <td>1</td>\n",
       "      <td>4409_14-F</td>\n",
       "      <td>14</td>\n",
       "      <td>90000063.0</td>\n",
       "      <td>15:04:00</td>\n",
       "      <td>False</td>\n",
       "      <td>False</td>\n",
       "    </tr>\n",
       "    <tr>\n",
       "      <th>3285378</th>\n",
       "      <td>529211</td>\n",
       "      <td>15:04:00</td>\n",
       "      <td>15:04:00</td>\n",
       "      <td>90000063</td>\n",
       "      <td>33</td>\n",
       "      <td>Grunnslóð</td>\n",
       "      <td>64.154464</td>\n",
       "      <td>-21.947669</td>\n",
       "      <td>Grandi</td>\n",
       "      <td>1</td>\n",
       "      <td>4409_14-F</td>\n",
       "      <td>14</td>\n",
       "      <td>90000064.0</td>\n",
       "      <td>15:05:00</td>\n",
       "      <td>False</td>\n",
       "      <td>False</td>\n",
       "    </tr>\n",
       "    <tr>\n",
       "      <th>3285471</th>\n",
       "      <td>529211</td>\n",
       "      <td>15:05:00</td>\n",
       "      <td>15:05:00</td>\n",
       "      <td>90000064</td>\n",
       "      <td>34</td>\n",
       "      <td>Fiskislóð</td>\n",
       "      <td>64.155849</td>\n",
       "      <td>-21.945205</td>\n",
       "      <td>Grandi</td>\n",
       "      <td>1</td>\n",
       "      <td>4409_14-F</td>\n",
       "      <td>14</td>\n",
       "      <td>90000020.0</td>\n",
       "      <td>15:06:00</td>\n",
       "      <td>False</td>\n",
       "      <td>False</td>\n",
       "    </tr>\n",
       "    <tr>\n",
       "      <th>3283890</th>\n",
       "      <td>529211</td>\n",
       "      <td>15:06:00</td>\n",
       "      <td>15:06:00</td>\n",
       "      <td>90000020</td>\n",
       "      <td>35</td>\n",
       "      <td>Grandi</td>\n",
       "      <td>64.155814</td>\n",
       "      <td>-21.941402</td>\n",
       "      <td>Grandi</td>\n",
       "      <td>1</td>\n",
       "      <td>4409_14-F</td>\n",
       "      <td>14</td>\n",
       "      <td>No next stop</td>\n",
       "      <td>End of trip</td>\n",
       "      <td>False</td>\n",
       "      <td>True</td>\n",
       "    </tr>\n",
       "  </tbody>\n",
       "</table>\n",
       "<p>59943 rows × 16 columns</p>\n",
       "</div>"
      ],
      "text/plain": [
       "         trip_id arrival_time departure_time   stop_id  stop_sequence  \\\n",
       "60        524766     13:27:00       13:27:00  90020295              1   \n",
       "153       524766     13:28:00       13:28:00  90000052              2   \n",
       "246       524766     13:29:00       13:29:00  90000821              3   \n",
       "339       524766     13:30:00       13:30:00  90000054              4   \n",
       "432       524766     13:32:00       13:32:00  90000055              5   \n",
       "...          ...          ...            ...       ...            ...   \n",
       "3285192   529211     15:01:00       15:01:00  90000061             31   \n",
       "3285285   529211     15:03:00       15:03:00  90000062             32   \n",
       "3285378   529211     15:04:00       15:04:00  90000063             33   \n",
       "3285471   529211     15:05:00       15:05:00  90000064             34   \n",
       "3283890   529211     15:06:00       15:06:00  90000020             35   \n",
       "\n",
       "             stop_name   stop_lat   stop_lon    trip_headsign  direction_id  \\\n",
       "60           Hlemmur B  64.143719 -21.915081  Hfj. Skarðshlíð             0   \n",
       "153       Barónsstígur  64.144475 -21.918978  Hfj. Skarðshlíð             0   \n",
       "246        Bíó Paradís  64.145639 -21.924854  Hfj. Skarðshlíð             0   \n",
       "339      Þjóðleikhúsið  64.146842 -21.930941  Hfj. Skarðshlíð             0   \n",
       "432       Lækjartorg A  64.147465 -21.936231  Hfj. Skarðshlíð             0   \n",
       "...                ...        ...        ...              ...           ...   \n",
       "3285192      Mýrargata  64.151683 -21.949006           Grandi             1   \n",
       "3285285   Grandagarður  64.153109 -21.949784           Grandi             1   \n",
       "3285378      Grunnslóð  64.154464 -21.947669           Grandi             1   \n",
       "3285471      Fiskislóð  64.155849 -21.945205           Grandi             1   \n",
       "3283890         Grandi  64.155814 -21.941402           Grandi             1   \n",
       "\n",
       "          block_id  route_short_name  next_stop_id next_arrival_time  \\\n",
       "60        4134_1-G                 1    90000052.0          13:28:00   \n",
       "153       4134_1-G                 1    90000821.0          13:29:00   \n",
       "246       4134_1-G                 1    90000054.0          13:30:00   \n",
       "339       4134_1-G                 1    90000055.0          13:32:00   \n",
       "432       4134_1-G                 1    90000056.0          13:33:00   \n",
       "...            ...               ...           ...               ...   \n",
       "3285192  4409_14-F                14    90000062.0          15:03:00   \n",
       "3285285  4409_14-F                14    90000063.0          15:04:00   \n",
       "3285378  4409_14-F                14    90000064.0          15:05:00   \n",
       "3285471  4409_14-F                14    90000020.0          15:06:00   \n",
       "3283890  4409_14-F                14  No next stop       End of trip   \n",
       "\n",
       "         is_first_stop  is_last_stop  \n",
       "60                True         False  \n",
       "153              False         False  \n",
       "246              False         False  \n",
       "339              False         False  \n",
       "432              False         False  \n",
       "...                ...           ...  \n",
       "3285192          False         False  \n",
       "3285285          False         False  \n",
       "3285378          False         False  \n",
       "3285471          False         False  \n",
       "3283890          False          True  \n",
       "\n",
       "[59943 rows x 16 columns]"
      ]
     },
     "metadata": {},
     "output_type": "display_data"
    }
   ],
   "source": [
    "# Lesa inn gögnin\n",
    "stops_df = pd.read_csv('content/stops.txt')\n",
    "trips_df = pd.read_csv('content/trips.txt')\n",
    "stop_times_df = pd.read_csv('content/stop_times.txt')\n",
    "routes_df = pd.read_csv('content//routes.txt', comment='#')\n",
    "calendar_dates_df = pd.read_csv('content/calendar_dates.txt')\n",
    "# næturstrætó\n",
    "night_buses = ['101', '102', '103', '104', '105', '106']\n",
    "\n",
    "# Filter -> bara sem byrjar á ST. & agency_id = 1 & er ekki næturstrætó\n",
    "routes_df = routes_df[(routes_df['route_id'].str.startswith(\"ST.\", na=False)) &\n",
    "                      (routes_df['agency_id'] == 1) &\n",
    "                      (~routes_df['route_short_name'].isin(night_buses))]\n",
    "\n",
    "# Bæta við dálki sem hefur aðeins upplýsingar um vikudaga.\n",
    "trips_df['day_pattern'] = trips_df['service_id'].apply(lambda x: x.split('_')[1])\n",
    "\n",
    "# Filter -> bara virkir dagar.\n",
    "def all_weekdays_no_weekends(pattern):\n",
    "    weekdays = 'MTWTF'\n",
    "    return all(day in pattern for day in weekdays if day != '-')\n",
    "    \n",
    "filtered_trips_df = trips_df[trips_df['day_pattern'].apply(all_weekdays_no_weekends)]\n",
    "\n",
    "# Filter -> pickup_type = 0\n",
    "filtered_stop_times_df = stop_times_df[stop_times_df['pickup_type'] == 0]\n",
    "\n",
    "# Merge -> filtered_stop_times & stops til að fá nafn á stoppi\n",
    "stop_times_with_stops_df = pd.merge(filtered_stop_times_df, stops_df, on='stop_id')\n",
    "\n",
    "# Merge -> stop_times_with_stops & trips til að fá upplýsingar um ferðir\n",
    "stop_times_with_stops_and_trips_df = pd.merge(stop_times_with_stops_df, filtered_trips_df, on='trip_id')\n",
    "\n",
    "# Merge -> Henda þessu í öllu í eina klessu\n",
    "stop_times_with_stops_trips_and_routes_df = pd.merge(stop_times_with_stops_and_trips_df, routes_df[['route_id', 'route_short_name']], on='route_id')\n",
    "\n",
    "# Merge -> stop_times_with_stops_trips_and_routes & calendar_dates til að fá upplýsingar um dagsetningar\n",
    "filtered_final_df = pd.merge(stop_times_with_stops_trips_and_routes_df, calendar_dates_df, on='service_id')\n",
    "\n",
    "# Filter -> bara fyrir daginn 20240411\n",
    "filtered_final_current_df = filtered_final_df[filtered_final_df['date'] == 20240411] # finna betri leið service id er unique og nýjasta\n",
    "\n",
    "# Filter -> óþarfa gögn\n",
    "df_re_filtered = filtered_final_current_df.drop(['stop_headsign', 'trip_short_name', 'exception_type', 'service_id', 'route_id', 'shape_id', 'date', 'day_pattern', 'pickup_type','location_type'], axis=1)\n",
    "\n",
    "# raða til að geta sett inn rétta liði\n",
    "df = df_re_filtered.sort_values(['trip_id', 'stop_sequence'])\n",
    "\n",
    "# Add 'next_stop_id' by shifting 'stop_id' up by one within each 'trip_id' group\n",
    "df['next_stop_id'] = df.groupby('trip_id')['stop_id'].shift(-1)\n",
    "df['next_arrival_time'] = df.groupby('trip_id')['arrival_time'].shift(-1)\n",
    "\n",
    "# setja flögg til að geta brugðist betur við.\n",
    "df['is_first_stop'] = df.groupby('trip_id')['stop_sequence'].transform('min') == df['stop_sequence']\n",
    "df['is_last_stop'] = df.groupby('trip_id')['stop_sequence'].transform('max') == df['stop_sequence']\n",
    "\n",
    "df['next_stop_id'] = df.groupby('trip_id')['stop_id'].shift(-1)\n",
    "df['next_arrival_time'] = df.groupby('trip_id')['arrival_time'].shift(-1)\n",
    "\n",
    "df['next_stop_id'].fillna('No next stop', inplace=True)\n",
    "df['next_arrival_time'].fillna('End of trip', inplace=True)\n",
    "\n",
    "display(df)"
   ]
  },
  {
   "cell_type": "markdown",
   "metadata": {},
   "source": [
    "Búið til net sem samsvarar leiðarkerfinu á virkum degi. Sýnið fjölda hnúta og leggja í\n",
    "netinu og finnið þá stoppistöð sem hefur hæstu útgráðuna (hvaða stöð og hver er útgráðan).\n",
    "Netið sem þið búið til má vera hvernig sem er svo lengi sem það sé \"pythonskt\"í laginu.\n",
    "Þ.e. við getum ítrað yfir hnúta í netinu og fyrir hvern hnút getum við ítrað yfir granna þess\n",
    "hnúts. Útfærslan í Java í Algorithms bókinni uppfyllir þessi skilyrði og eftirfarandi einfaldi\n",
    "python kóði gerir það líka.\n",
    "\n",
    "```\n",
    "G = {1: [2,3], 2: [], 3: [1,2] }\n",
    "for v in G:\n",
    "  print(u,':')\n",
    "    for u in G[u,v]:\n",
    "      print(u,' -> ',v)\n",
    "```\n",
    "Ef við viljum bæta við einhverjum upplýsingum þá er hægt að gera það í uppflettitöflu.\n",
    "Ekki er leyfilegt að nota pakka fyrir net í python á borð við networkx eða sambærilegt."
   ]
  },
  {
   "cell_type": "markdown",
   "metadata": {},
   "source": [
    "#### Búum til hakkatöflu fyrir stop_id svo við getum auðveldlega náð í nafn á stoppustöð"
   ]
  },
  {
   "cell_type": "code",
   "execution_count": 4,
   "metadata": {
    "tags": []
   },
   "outputs": [
    {
     "name": "stdout",
     "output_type": "stream",
     "text": [
      "Árvað\n"
     ]
    }
   ],
   "source": [
    "# búum til hakkatöflu fyrir stop_id svo við getum auðveldlega náð í nafn á stoppustöð\n",
    "all_stop_ids = df['stop_id'].unique()\n",
    "stop_id_to_name = pd.Series(df.stop_name.values, index=df.stop_id).to_dict()\n",
    "\n",
    "print(stop_id_to_name[90000397])"
   ]
  },
  {
   "cell_type": "markdown",
   "metadata": {},
   "source": [
    "#### Búum til netið G"
   ]
  },
  {
   "cell_type": "code",
   "execution_count": 5,
   "metadata": {
    "tags": []
   },
   "outputs": [],
   "source": [
    "#### hjálparföll fyrir netagerð\n",
    "def convert_time_str_to_timedelta(time_str):\n",
    "    parts = time_str.split(':')\n",
    "    hours, minutes = int(parts[0]), int(parts[1])\n",
    "    seconds = int(parts[2]) if len(parts) == 2 else 0\n",
    "    days, hours = divmod(hours, 24)\n",
    "    return timedelta(days=days, hours=hours, minutes=minutes, seconds=seconds)\n",
    "\n",
    "def format_hours_to_time(hours):\n",
    "    if hours is None:\n",
    "        return None\n",
    "    total_minutes = int(hours * 60)\n",
    "    h, m = divmod(total_minutes, 60)\n",
    "    return f\"{h:02d}:{m:02d}\"\n",
    "\n",
    "def create_stop_name_to_ids_map(df):\n",
    "    stop_name_to_ids = {}\n",
    "    for index, row in df.iterrows():\n",
    "        if row['stop_name'] not in stop_name_to_ids:\n",
    "            stop_name_to_ids[row['stop_name']] = []\n",
    "        stop_name_to_ids[row['stop_name']].append(row['stop_id'])\n",
    "    return stop_name_to_ids\n",
    "\n",
    "stop_name_to_ids = create_stop_name_to_ids_map(df)"
   ]
  },
  {
   "cell_type": "code",
   "execution_count": 6,
   "metadata": {
    "tags": []
   },
   "outputs": [],
   "source": [
    "G = {}\n",
    "for _, row in df.iterrows():\n",
    "    stop_id = row['stop_id']\n",
    "    arrival_time = convert_time_str_to_timedelta(row['arrival_time'])\n",
    "    departure_time = convert_time_str_to_timedelta(row['departure_time'])\n",
    "    \n",
    "    if not row['is_last_stop']:\n",
    "        stop_name = row['stop_name']\n",
    "        next_stop_id = row['next_stop_id']\n",
    "        next_arrival_time = convert_time_str_to_timedelta(row['next_arrival_time'])\n",
    "        travel_time = next_arrival_time - arrival_time\n",
    "        route_short_name = row['route_short_name']\n",
    "        trip_headsign = row['trip_headsign']\n",
    "        stop_lat = row['stop_lat']\n",
    "        stop_lon = row['stop_lon']\n",
    "\n",
    "        if stop_id not in G:\n",
    "            G[stop_id] = []\n",
    "        G[stop_id].append({\n",
    "            'stop_name': stop_name,\n",
    "            'next_stop_id': next_stop_id,\n",
    "            'route_short_name': route_short_name,\n",
    "            'trip_headsign': trip_headsign,\n",
    "            'arrival_time': arrival_time,\n",
    "            'travel_time': travel_time,\n",
    "            'departure_time': departure_time,\n",
    "            'next_arrival_time': next_arrival_time,\n",
    "            'stop_lat': stop_lat,\n",
    "            'stop_lon': stop_lon,\n",
    "        })"
   ]
  },
  {
   "cell_type": "code",
   "execution_count": 7,
   "metadata": {
    "tags": []
   },
   "outputs": [],
   "source": [
    "# # til að prenta netið\n",
    "# first_stop_name = next(iter(stop_name_to_ids))  # This retrieves the first stop name in the dictionary\n",
    "# print(f\"First Stop Name: {first_stop_name}\")\n",
    "\n",
    "# stop_ids = stop_name_to_ids[first_stop_name]\n",
    "# # print(f\"Stop IDs for '{first_stop_name}': {stop_ids}\")\n",
    "\n",
    "# for stop_id in stop_ids:\n",
    "#     if stop_id in G:\n",
    "#         print(f\"Node: {stop_id}, Stop Name: {first_stop_name}\")\n",
    "#         for edge in G[stop_id]:\n",
    "#             print(f\"  Edge to {edge['next_stop_id']}\")\n",
    "#             print(f\"    On it's way to {edge['trip_headsign']}\")\n",
    "#             print(f\"    Route: {edge['route_short_name']}\")\n",
    "#             print(f\"    Travel Time: {edge['travel_time']}\")\n",
    "#             print(f\"    Arrival Time: {edge['arrival_time']}\")\n",
    "#             print(f\"    Departure Time: {edge['departure_time']}\")\n",
    "#             print(f\"    Arrival at next stop: {edge['next_arrival_time']}\")\n",
    "#             print(f\"    Latitude: {edge['stop_lat']}, Longitude: {edge['stop_lon']}\")\n",
    "#     else:\n",
    "#         print(f\"No data available for Stop ID: {stop_id}\")"
   ]
  },
  {
   "cell_type": "code",
   "execution_count": 8,
   "metadata": {
    "id": "Uhj7IAghuFbs",
    "tags": []
   },
   "outputs": [
    {
     "name": "stdout",
     "output_type": "stream",
     "text": [
      "Stoppistöð með hæstu útgráðu er Mjódd með útgráðu 538.\n"
     ]
    }
   ],
   "source": [
    "#### spurning hvort megi gera ráð fyrir báðum stoppum. fram og tilbaka. \n",
    "#### ég heyrði að lokatalan ætti að vera í kringum 1000 sem myndi meika sens. 2*538 ca 1000\n",
    "\n",
    "\n",
    "#reikna útgráðu        \n",
    "out_degrees = {stop_id: len(neighbors) for stop_id, neighbors in G.items()}\n",
    "\n",
    "# Finna stoppistöð með hæstu útgráðu\n",
    "max_out_degree_stop = max(out_degrees, key=out_degrees.get)\n",
    "max_out_degree = out_degrees[max_out_degree_stop]\n",
    "max_out_degree_stop_name = filtered_final_current_df[filtered_final_current_df['stop_id'] == max_out_degree_stop].iloc[0]['stop_name']\n",
    "\n",
    "print(f\"Stoppistöð með hæstu útgráðu er {max_out_degree_stop_name} með útgráðu {max_out_degree}.\")"
   ]
  },
  {
   "cell_type": "markdown",
   "metadata": {
    "id": "boqcfKGM6WU2"
   },
   "source": [
    "# 2.3.2 Leit (⋆⋆)\n",
    "Útfærið leitarreikniritið á netinu eins og lýst var að ofan. Sýnið niðurstöðu leitarinnar þegar\n",
    "við viljum komast frá Meistaravöllum (ath. það eru tvær stöðvar með þessu nafni) til FB,\n",
    "kl 11:30."
   ]
  },
  {
   "cell_type": "code",
   "execution_count": 23,
   "metadata": {
    "tags": []
   },
   "outputs": [
    {
     "name": "stdout",
     "output_type": "stream",
     "text": [
      "Lagt af stað frá Grandavegur með strætó nr 15 á leið til Mosfellsbær. Lagt af stað kl: 11:30\n",
      "Farið út á Reynimelur kl 11:31\n",
      "Lagt af stað frá Skerjagarðar með strætó nr 12 á leið til Skerjafjörður. Lagt af stað kl: 11:35\n",
      "Farið út á Þorragata kl 11:36\n",
      "Lagt af stað frá Þorragata með strætó nr 15 á leið til Mosfellsbær. Lagt af stað kl: 11:36\n",
      "Farið út á Reykjavíkurflugvöllur kl 11:37\n",
      "Lagt af stað frá Læknagarður með strætó nr 1 á leið til Hfj. Skarðshlíð. Lagt af stað kl: 11:38\n",
      "Farið út á Klambratún kl 11:41\n",
      "Lagt af stað frá Kringlan með strætó nr 3 á leið til Sel/Fell. Lagt af stað kl: 11:42\n",
      "Farið út á Skeifan kl 11:46\n",
      "Lagt af stað frá Mjódd með strætó nr 11 á leið til Mjódd. Lagt af stað kl: 11:49\n",
      "Farið út á Stekkjarbakki kl 11:52\n",
      "Lagt af stað frá Stekkjarbakki með strætó nr 2 á leið til Hlemmur. Lagt af stað kl: 11:52\n",
      "Farið út á Leirubakki kl 11:53\n",
      "Lagt af stað frá Seljabraut með strætó nr 12 á leið til Mjódd/Ártún. Lagt af stað kl: 11:54\n",
      "Farið út á Flúðasel kl 11:54\n",
      "Lagt af stað frá Æsufell með strætó nr 3 á leið til Sel/Fell. Lagt af stað kl: 11:56\n",
      "Farið út á Fellaskóli kl 11:58\n",
      "Kominn á áfangastað FB kl 12:00\n"
     ]
    },
    {
     "data": {
      "text/plain": [
       "datetime.timedelta(seconds=43200)"
      ]
     },
     "execution_count": 23,
     "metadata": {},
     "output_type": "execute_result"
    }
   ],
   "source": [
    "def convert_time_str_to_timedelta(time_str):\n",
    "    # Assuming time_str is in the format \"HH:MM\"\n",
    "    hours, minutes = map(int, time_str.split(':'))\n",
    "    return timedelta(hours=hours, minutes=minutes)\n",
    "\n",
    "def format_hours_to_time(timedelta_obj):\n",
    "    total_seconds = int(timedelta_obj.total_seconds())\n",
    "    hours, remainder = divmod(total_seconds, 3600)\n",
    "    minutes, _ = divmod(remainder, 60)\n",
    "    return f\"{hours:02d}:{minutes:02d}\"\n",
    "\n",
    "def find_route(G, starts, destinations, start_time):\n",
    "    earliest_arrival_to_destination = None\n",
    "    route_info = []\n",
    "    start_time_delta = convert_time_str_to_timedelta(start_time)\n",
    "    destinations_set = set(destinations)\n",
    "    entry_count = 0\n",
    "\n",
    "    visited = {}\n",
    "    last_route = None\n",
    "\n",
    "    for start in starts:\n",
    "        pq = [(start_time_delta, entry_count, {'stop': start, 'route': None, 'departure_time': start_time_delta}, [])]\n",
    "        entry_count += 1\n",
    "        visited[start] = start_time_delta\n",
    "\n",
    "        while pq:\n",
    "            current_time, _, current_stop_info, path = heapq.heappop(pq)\n",
    "            current_stop = current_stop_info['stop']\n",
    "\n",
    "            if current_stop in destinations_set:\n",
    "                if earliest_arrival_to_destination is None or current_time < earliest_arrival_to_destination:\n",
    "                    earliest_arrival_to_destination = current_time\n",
    "                    route_info = path + [current_stop_info]\n",
    "                # route_info.append(current_stop_info)\n",
    "                continue\n",
    "\n",
    "            for edge in G.get(current_stop, []):\n",
    "                next_stop = edge['next_stop_id']\n",
    "                next_route = edge['route_short_name']\n",
    "                travel_time_delta = edge['travel_time']\n",
    "                arrival_time_at_next_stop = current_time + travel_time_delta\n",
    "                trip_headsign = edge['trip_headsign']\n",
    "\n",
    "                if next_stop not in visited or arrival_time_at_next_stop < visited[next_stop]:\n",
    "                    visited[next_stop] = arrival_time_at_next_stop\n",
    "                    next_stop_info = {\n",
    "                        'stop': next_stop,\n",
    "                        'route': next_route,\n",
    "                        'departure_time': current_time,\n",
    "                        'next_arrival_time': arrival_time_at_next_stop,\n",
    "                        'trip_headsign': trip_headsign\n",
    "                    }\n",
    "                    heapq.heappush(pq, (arrival_time_at_next_stop, entry_count, next_stop_info, path + [current_stop_info]))\n",
    "                    entry_count += 1\n",
    "\n",
    "    if route_info:\n",
    "        for i, stop_info in enumerate(route_info):\n",
    "            if stop_info['route'] != last_route:  # Þarf að laga\n",
    "                next_stop_info = route_info[i + 1] if i < len(route_info) - 1 else stop_info\n",
    "                print(f\"Lagt af stað frá {stop_id_to_name[stop_info['stop']]} með strætó nr {stop_info['route']} á leið til {stop_info['trip_headsign']}. \"\n",
    "                      f\"Lagt af stað kl: {format_hours_to_time(stop_info['departure_time'])}\")\n",
    "                print(f\"Farið út á {stop_id_to_name[next_stop_info['stop']]} kl \"\n",
    "                      f\"{format_hours_to_time(next_stop_info['next_arrival_time'])}\")\n",
    "\n",
    "                last_route = stop_info['route']\n",
    "    print(f\"Kominn á áfangastað {stop_id_to_name[stop_info['stop']]} kl {format_hours_to_time(earliest_arrival_to_destination)}\")\n",
    "    return earliest_arrival_to_destination\n",
    "\n",
    "\n",
    "\n",
    "meistaravellir = find_unique_stop_ids(df, 'Meistaravellir')\n",
    "fb = find_unique_stop_ids(df, 'FB')\n",
    "\n",
    "find_route(G, meistaravellir, fb,'11:30')"
   ]
  },
  {
   "cell_type": "markdown",
   "metadata": {
    "id": "Z3gCShNm6m7n"
   },
   "source": [
    "\n",
    "## 2.3.3 Framsetning (⋆)\n",
    "Takið löglega leið og búið til leiðarlýsingu, þ.e. hvaða vagn á að taka klukkan hvað og hvar\n",
    "á að skipta um stöð, svipað og gert er á myndinni að ofan."
   ]
  },
  {
   "cell_type": "code",
   "execution_count": null,
   "metadata": {
    "id": "lB7vUhIA-IOi"
   },
   "outputs": [],
   "source": [
    "\n",
    "# class Node:  # Hnutur\n",
    "#     def __init__(self, name: str):\n",
    "#         self.name = name  # Name of the stop\n",
    "\n",
    "# class Edge:  # Leggur\n",
    "#     def __init__(self, start: Node, end: Node, start_time: str, end_time: str):\n",
    "#         self.start = start  # Starting stop\n",
    "#         self.end = end  # Ending stop\n",
    "#         self.start_time = start_time  # Departure time from the start stop\n",
    "#         self.end_time = end_time  # Arrival time at the end stop\n"
   ]
  },
  {
   "cell_type": "markdown",
   "metadata": {
    "id": "DlUdqF_b-JJ-"
   },
   "source": [
    "## 2.3.4 Labb (⋆⋆)\n",
    "Sumar stoppistöðvar eru nálægt hvor annari en ekki hægt að taka strætó á milli þeirra. Breytið netinu og reikniritinu ykkar til að höndla þetta tilfelli, notið GPS hnitin sem eru gefin í gögnunum og veljið hæfilega fjarlægð sem þið eruð til í að láta fólk labba. T.d. er hægt að labba úr 13 í Suðurveri yfir í 4 á Kringlumýrarbraut en 13 stoppar ekki þar. Sýnið dæmi um leið þar sem komutími styttist við að leyfa labb. Þessi aðferð við að tengja saman stöðvar er ekki fullkomin og sýnir að oft er mikilvægara að hafa aðgang að betri gögnum, t.d. eru stoppistöðvar nálægt í planinu en taka langan tíma að labba á milli."
   ]
  },
  {
   "cell_type": "code",
   "execution_count": null,
   "metadata": {
    "id": "PIjJFxAi-Zpo"
   },
   "outputs": [],
   "source": []
  },
  {
   "cell_type": "markdown",
   "metadata": {
    "id": "QC_lhorw-d1y"
   },
   "source": [
    "## 2.3.5 Tímamælingar (⋆)\n",
    "Mælið fjölda fyrirspurna sem aðferðin ykkar getur svarað á sekúndu. Tryggið að mælingarnar blandi stuttum og löngum leiðum með ólíkum tímum."
   ]
  },
  {
   "cell_type": "code",
   "execution_count": null,
   "metadata": {
    "id": "izKrefM8-lRW"
   },
   "outputs": [],
   "source": []
  },
  {
   "cell_type": "markdown",
   "metadata": {
    "id": "Rqh_ukIH-mDK"
   },
   "source": [
    "## 2.3.6 Bestun og gagnagrindur (⋆⋆)\n",
    "Notið niðurstöður úr tímamælingu til að ná betri afköstum. Hér skiptir máli hvernig framsetningin á netinu er framkvæmd, hvaða gagnagrindur eru notaðar og hvort hægt sé að bæta eitthvað."
   ]
  },
  {
   "cell_type": "code",
   "execution_count": null,
   "metadata": {
    "id": "mswynGcM-vmp"
   },
   "outputs": [],
   "source": []
  },
  {
   "cell_type": "markdown",
   "metadata": {
    "id": "Jl7o8cvj-wQA"
   },
   "source": [
    "## 2.3.7 Færri skiptingar (⋆⋆)\n",
    "Í einhverjum tilfellum eru margar ólíkar leiðir sem taka jafnlangan tíma, þ.e. seinasti vagninn kemur á áfangastað á sama tíma en fjöldi vagna sem er tekinn er ekki sá sami. Útskýrið hvernig er hægt að breyta reikniritinu til skipta sem sjaldnast um vagn og útfærið þetta á netinu. Sýnið dæmi um strætóferð þar sem niðurstaðan breytist."
   ]
  },
  {
   "cell_type": "code",
   "execution_count": null,
   "metadata": {
    "id": "r7SBJEs4-87J"
   },
   "outputs": [],
   "source": []
  },
  {
   "cell_type": "markdown",
   "metadata": {
    "id": "apv5FjEs_BH4"
   },
   "source": [
    "## 2.3.8 A(⋆⋆⋆)\n",
    "Útfærið A∗ reikniritið (sjá kafla 10.8 í https://people.mpi-inf.mpg.de/~mehlhorn/ftp/\n",
    "NewToolbox/spath.pdf) með því að velja heppilegt fjarlægðarfall f . Sýnið að fjarlægðar-\n",
    "fallið sem er valið sé löglegt, þ.e. reikniritið skilar alltaf réttum niðurstöðum, og framkvæmið\n",
    "tímamælingar sem mæla hversu miklu þessi breyting skilar."
   ]
  },
  {
   "cell_type": "markdown",
   "metadata": {
    "id": "FOHCx6Ni_NLz"
   },
   "source": [
    "## 2.3.9 Pokémon (⋆ ⋆ ⋆)\n",
    "Finnið þá leið sem tekur mestan fjölda vagna. Athugið að þetta verkefni er mögulega NP-erfitt, takið eftir að netið eins og það er sett upp er ekki DAG (stefnt óhringað net) en það má breyta því í DAG með því að taka út hnútana sem samsvara stoppistöðvum og bæta við hnút fyrir stoppistöð og hvern tímapunkt (x, t), þá setjum við legg frá (x, t) til (x, t′) ef t′ er næsti tímapunktur fyrir þessa stöppistöð og legg sem fara frá (x, t) til v ef vagn fer frá x á tíma t.\n",
    "\n",
    "Finnið, með einhverju móti, lengstu mögulegu leið sem tekur sem flesta ólíka strætis-\n",
    "vagnaleiðir."
   ]
  },
  {
   "cell_type": "code",
   "execution_count": null,
   "metadata": {
    "id": "rvSRWPQD_eVZ"
   },
   "outputs": [],
   "source": []
  }
 ],
 "metadata": {
  "colab": {
   "provenance": [],
   "toc_visible": true
  },
  "kernelspec": {
   "display_name": "Python 3 (ipykernel)",
   "language": "python",
   "name": "python3"
  },
  "language_info": {
   "codemirror_mode": {
    "name": "ipython",
    "version": 3
   },
   "file_extension": ".py",
   "mimetype": "text/x-python",
   "name": "python",
   "nbconvert_exporter": "python",
   "pygments_lexer": "ipython3",
   "version": "3.11.7"
  }
 },
 "nbformat": 4,
 "nbformat_minor": 4
}
