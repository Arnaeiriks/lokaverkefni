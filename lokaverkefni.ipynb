{
  "cells": [
    {
      "cell_type": "markdown",
      "metadata": {
        "id": "lAvYDx3h4Jz_"
      },
      "source": [
        "#1 Leiðarval hjá Strætó\n",
        "Í þessu verkefni á að búa til leitarvél fyrir Strætó, notast verður við raungögn frá Strætó\n",
        "sem er að finna á\n",
        "https://straeto.is/um-straeto/opin-rafraen-gogn.\n",
        "Til einföldunar munuð þið nota skrána gtfs.zip sem er að finna á Canvas síðu námskeiðsins til að tryggja að\n",
        "allir noti sömu útgáfu.\n"
      ]
    },
    {
      "cell_type": "markdown",
      "metadata": {
        "id": "vclL8JTa4KNx"
      },
      "source": [
        "## 2.1 Inntak\n",
        "Inntakið er tímatafla strætó, listi yfir leiðir, vagna og stoppistöðvar. Við skilgreinum netið\n",
        "G á eftirfarandi hátt. Hver einasta stoppistöð verður hnútur.\n",
        "Ef vagn ekur á milli stoppistöðva x og y á tímum t1 og t2 með engum öðrum stoppum á\n",
        "milli þá búum við til nýjan hnút v með leggina (x, v), (v, y) og merkjum þá með tímunum t_1 og t_2. Hnúturinn v geymir upplýsingar um hvaða vagni sá hnútur tilheyrir, athugið þessi\n",
        "hnútur verður ekki endurnýttur.\n",
        "Fyrir leiðina sem er sýnd á myndinni þá samsvarar hún fimm hnútum. Hnútar 1, 3, 5\n",
        "eru stoppistöðvarnar Hlemmur B, Sólfarið og Harpa. Hnútur 2 tengir saman Hlemm B og\n",
        "Sólfarið og leggirnir hafa tímann 10:22 og 10:25. Hnútur 4 tengir saman Sólfarið og Hörpu,\n",
        "fyrri leggurinn hefur tímann 10:25 (ekki sýnilegt á mynd) og sá seinni 10:26. Þetta er dæmi\n",
        "um löglegan veg þar sem allir leggir samsvara vögnum sem við getum tekið og tímarnir\n",
        "stemma, þ.e. eru í vaxandi röð"
      ]
    },
    {
      "cell_type": "markdown",
      "metadata": {
        "id": "7XHW7-bM4KZg"
      },
      "source": [
        "## 2.2 Reiknirit\n",
        "Einfaldasta tilfellið sem við viljum leysa þá fá um við par af stoppistöðvum og tíma, (x, y, t)\n",
        "og úttakið er leið í strætókerfinu frá x til y sem fer frá x á tíma t′ ≥ t og lágmarkar\n",
        "komutímann á áfangastað. Ef við skiptum um strætisvagn þá samsvarar það því að \"bíða\"á\n",
        "hnútnum sem er á stoppistöð og taka legg sem tilheyrir öðrum vagni heldur en þeim sem\n",
        "við komum með.\n",
        "Til að leysa þetta verkefni er hægt að nota reiknirit Dijkstra með einni breytingu, í stað\n",
        "þess að slaka (RELAX aðferðin) á leggjum með því að leggja saman vigtir þá notum við\n",
        "komutímann á leggnum ef leggurinn er löglegur, þ.e. ef (u, v) er leggurinn sem við skoðum\n",
        "með tímann t þá setjum við d[v] = min(d[v], t) ef t ≥ d[u].\n"
      ]
    },
    {
      "cell_type": "markdown",
      "metadata": {
        "id": "HlNQ7JG95ai9"
      },
      "source": [
        "# 2.3 Verkþættir\n",
        "## 2.3.1 Þáttun (⋆)\n",
        "Gögnin fyrir strætó eru gefin á GTFS formi, lýsingu á GTFS er að finna á https://gtfs.\n",
        "org/schedule/reference/. Til að búa til netið þarf að þátta (e. parse) gögnin, þ.e. lesa\n",
        "þau inn og tengja saman á skynsamlegan hátt.\n",
        "\n",
        "Til einföldunar ætlum við eingöngu að nota eftirfarandi hluta af gögnunum\n",
        "\n",
        "agency_id=1 eingöngu leiðir sem tilheyra Strætó BS merktar ST.*\n",
        "\n",
        "Leiðirnar eru ólíkar milli vikudaga, gefum okkur að við séum að vinna með virka daga\n",
        "og sleppum næturstrætó (leiðir 101-106). Það má líka sleppa helgidögum, þ.e. sem er\n",
        "skilgreint í calendar_dates.csv skráni.\n",
        "\n",
        "Sumar leiðir eru í pöntunarþjónustu, við höldum eingöngu þeim leggjum sem eru með\n",
        "pickup_type=0 í stop_times.csv.\n",
        "\n",
        "Búið til net sem samsvarar leiðarkerfinu á virkum degi. Sýnið fjölda hnúta og leggja í\n",
        "netinu og finnið þá stoppistöð sem hefur hæstu útgráðuna (hvaða stöð og hver er útgráðan).\n",
        "Netið sem þið búið til má vera hvernig sem er svo lengi sem það sé \"pythonskt\"í laginu.\n",
        "Þ.e. við getum ítrað yfir hnúta í netinu og fyrir hvern hnút getum við ítrað yfir granna þess\n",
        "hnúts. Útfærslan í Java í Algorithms bókinni uppfyllir þessi skilyrði og eftirfarandi einfaldi\n",
        "python kóði gerir það líka.\n",
        "\n",
        "```\n",
        "G = {1: [2,3], 2: [], 3: [1,2] }\n",
        "for v in G:\n",
        "  print(u,':')\n",
        "    for u in G[u,v]:\n",
        "      print(u,' -> ',v)\n",
        "```\n",
        "Ef við viljum bæta við einhverjum upplýsingum þá er hægt að gera það í uppflettitöflu.\n",
        "Ekki er leyfilegt að nota pakka fyrir net í python á borð við networkx eða sambærilegt."
      ]
    },
    {
      "cell_type": "code",
      "execution_count": 74,
      "metadata": {
        "colab": {
          "base_uri": "https://localhost:8080/",
          "height": 617
        },
        "id": "GlPcIXBIsCsm",
        "outputId": "4c0c9389-39ec-4cfe-c380-0a20bed7866c"
      },
      "outputs": [
        {
          "name": "stdout",
          "output_type": "stream",
          "text": [
            "         trip_id arrival_time departure_time   stop_id  stop_sequence  \\\n",
            "60        524766     13:27:00       13:27:00  90020295              1   \n",
            "153       524766     13:28:00       13:28:00  90000052              2   \n",
            "246       524766     13:29:00       13:29:00  90000821              3   \n",
            "339       524766     13:30:00       13:30:00  90000054              4   \n",
            "432       524766     13:32:00       13:32:00  90000055              5   \n",
            "...          ...          ...            ...       ...            ...   \n",
            "5574294   529211     15:01:00       15:01:00  90000061             31   \n",
            "5574387   529211     15:03:00       15:03:00  90000062             32   \n",
            "5574480   529211     15:04:00       15:04:00  90000063             33   \n",
            "5574573   529211     15:05:00       15:05:00  90000064             34   \n",
            "5574666   529211     15:06:00       15:06:00  90000020             35   \n",
            "\n",
            "        stop_headsign  pickup_type      stop_name   stop_lat   stop_lon  ...  \\\n",
            "60                NaN            0      Hlemmur B  64.143719 -21.915081  ...   \n",
            "153               NaN            0   Barónsstígur  64.144475 -21.918978  ...   \n",
            "246               NaN            0    Bíó Paradís  64.145639 -21.924854  ...   \n",
            "339               NaN            0  Þjóðleikhúsið  64.146842 -21.930941  ...   \n",
            "432               NaN            0   Lækjartorg A  64.147465 -21.936231  ...   \n",
            "...               ...          ...            ...        ...        ...  ...   \n",
            "5574294           NaN            0      Mýrargata  64.151683 -21.949006  ...   \n",
            "5574387           NaN            0   Grandagarður  64.153109 -21.949784  ...   \n",
            "5574480           NaN            0      Grunnslóð  64.154464 -21.947669  ...   \n",
            "5574573           NaN            0      Fiskislóð  64.155849 -21.945205  ...   \n",
            "5574666           NaN            0         Grandi  64.155814 -21.941402  ...   \n",
            "\n",
            "                  service_id    trip_headsign trip_short_name direction_id  \\\n",
            "60       20230820_MTWTF--_42  Hfj. Skarðshlíð             NaN            0   \n",
            "153      20230820_MTWTF--_42  Hfj. Skarðshlíð             NaN            0   \n",
            "246      20230820_MTWTF--_42  Hfj. Skarðshlíð             NaN            0   \n",
            "339      20230820_MTWTF--_42  Hfj. Skarðshlíð             NaN            0   \n",
            "432      20230820_MTWTF--_42  Hfj. Skarðshlíð             NaN            0   \n",
            "...                      ...              ...             ...          ...   \n",
            "5574294  20230820_MTWTF--_42           Grandi             NaN            1   \n",
            "5574387  20230820_MTWTF--_42           Grandi             NaN            1   \n",
            "5574480  20230820_MTWTF--_42           Grandi             NaN            1   \n",
            "5574573  20230820_MTWTF--_42           Grandi             NaN            1   \n",
            "5574666  20230820_MTWTF--_42           Grandi             NaN            1   \n",
            "\n",
            "          block_id             shape_id day_pattern route_short_name  \\\n",
            "60        4134_1-G     1_f1_1006520_1_2     MTWTF--                1   \n",
            "153       4134_1-G     1_f1_1006520_1_2     MTWTF--                1   \n",
            "246       4134_1-G     1_f1_1006520_1_2     MTWTF--                1   \n",
            "339       4134_1-G     1_f1_1006520_1_2     MTWTF--                1   \n",
            "432       4134_1-G     1_f1_1006520_1_2     MTWTF--                1   \n",
            "...            ...                  ...         ...              ...   \n",
            "5574294  4409_14-F  14_f14_1005602_2_52     MTWTF--               14   \n",
            "5574387  4409_14-F  14_f14_1005602_2_52     MTWTF--               14   \n",
            "5574480  4409_14-F  14_f14_1005602_2_52     MTWTF--               14   \n",
            "5574573  4409_14-F  14_f14_1005602_2_52     MTWTF--               14   \n",
            "5574666  4409_14-F  14_f14_1005602_2_52     MTWTF--               14   \n",
            "\n",
            "             date  exception_type  \n",
            "60       20240411               1  \n",
            "153      20240411               1  \n",
            "246      20240411               1  \n",
            "339      20240411               1  \n",
            "432      20240411               1  \n",
            "...           ...             ...  \n",
            "5574294  20240411               1  \n",
            "5574387  20240411               1  \n",
            "5574480  20240411               1  \n",
            "5574573  20240411               1  \n",
            "5574666  20240411               1  \n",
            "\n",
            "[59943 rows x 22 columns]\n"
          ]
        }
      ],
      "source": [
        "import pandas as pd\n",
        "\n",
        "# Lesa inn gögnin\n",
        "filtered_final_current_df = pd.read_csv('content/stops.txt')\n",
        "trips_df = pd.read_csv('content/trips.txt')\n",
        "filterd_final_current_df = pd.read_csv('content/stop_times.txt')\n",
        "routes_df = pd.read_csv('content//routes.txt', comment='#')\n",
        "calendar_dates_df = pd.read_csv('content/calendar_dates.txt')\n",
        "# næturstrætó\n",
        "night_buses = ['101', '102', '103', '104', '105', '106']\n",
        "\n",
        "# Filter -> bara sem byrjar á ST. & agency_id = 1 & er ekki næturstrætó\n",
        "routes_df = routes_df[(routes_df['route_id'].str.startswith(\"ST.\", na=False)) &\n",
        "                      (routes_df['agency_id'] == 1) &\n",
        "                      (~routes_df['route_short_name'].isin(night_buses))]\n",
        "\n",
        "# Bæta við dálki sem hefur aðeins upplýsingar um vikudaga.\n",
        "trips_df['day_pattern'] = trips_df['service_id'].apply(lambda x: x.split('_')[1])\n",
        "\n",
        "# Filter -> bara virkir dagar.\n",
        "def all_weekdays_no_weekends(pattern):\n",
        "    weekdays = 'MTWTF'\n",
        "    return all(day in pattern for day in weekdays if day != '-')\n",
        "    \n",
        "filtered_trips_df = trips_df[trips_df['day_pattern'].apply(all_weekdays_no_weekends)]\n",
        "\n",
        "# Filter -> pickup_type = 0\n",
        "filtered_stop_times_df = filterd_final_current_df[filterd_final_current_df['pickup_type'] == 0]\n",
        "\n",
        "# Merge -> filtered_stop_times & stops til að fá nafn á stoppi\n",
        "stop_times_with_stops_df = pd.merge(filtered_stop_times_df, filtered_final_current_df, on='stop_id')\n",
        "\n",
        "# Merge -> stop_times_with_stops & trips til að fá upplýsingar um ferðir\n",
        "stop_times_with_stops_and_trips_df = pd.merge(stop_times_with_stops_df, filtered_trips_df, on='trip_id')\n",
        "\n",
        "# Merge -> Henda þessu í öllu í eina klessu\n",
        "stop_times_with_stops_trips_and_routes_df = pd.merge(stop_times_with_stops_and_trips_df, routes_df[['route_id', 'route_short_name']], on='route_id')\n",
        "\n",
        "# Merge -> stop_times_with_stops_trips_and_routes & calendar_dates til að fá upplýsingar um dagsetningar\n",
        "filtered_final_df = pd.merge(stop_times_with_stops_trips_and_routes_df, calendar_dates_df, on='service_id')\n",
        "\n",
        "# Filter -> bara fyrir daginn 20240411\n",
        "filtered_final_current_df = filtered_final_df[filtered_final_df['date'] == 20240411]\n",
        "\n",
        "print(filtered_final_current_df)\n"
      ]
    },
    {
      "cell_type": "code",
      "execution_count": 76,
      "metadata": {
        "id": "Uhj7IAghuFbs"
      },
      "outputs": [
        {
          "name": "stdout",
          "output_type": "stream",
          "text": [
            "Stoppistöð með hæstu útgráðu er Mjódd með útgráðu 538.\n"
          ]
        }
      ],
      "source": [
        "G = {}\n",
        "for index, row in filtered_final_current_df.iterrows():\n",
        "    if row['stop_id'] not in G:\n",
        "        G[row['stop_id']] = []\n",
        "    # Finna næsta stopp í sömu ferð\n",
        "    next_stop_info = filtered_final_current_df[(filtered_final_current_df['trip_id'] == row['trip_id']) & (filtered_final_current_df['stop_sequence'] == row['stop_sequence'] + 1)]\n",
        "    if not next_stop_info.empty:\n",
        "        next_stop_id = next_stop_info.iloc[0]['stop_id']\n",
        "        G[row['stop_id']].append(next_stop_id, row['departure_time'])\n",
        "#reikna útgráðu        \n",
        "out_degrees = {stop_id: len(neighbors) for stop_id, neighbors in G.items()}\n",
        "\n",
        "# Finna stoppistöð með hæstu útgráðu\n",
        "max_out_degree_stop = max(out_degrees, key=out_degrees.get)\n",
        "max_out_degree = out_degrees[max_out_degree_stop]\n",
        "max_out_degree_stop_name = filtered_final_current_df[filtered_final_current_df['stop_id'] == max_out_degree_stop].iloc[0]['stop_name']\n",
        "\n",
        "print(f\"Stoppistöð með hæstu útgráðu er {max_out_degree_stop_name} með útgráðu {max_out_degree}.\")\n"
      ]
    },
    {
      "cell_type": "markdown",
      "metadata": {
        "id": "boqcfKGM6WU2"
      },
      "source": [
        "# 2.3.2 Leit (⋆⋆)\n",
        "Útfærið leitarreikniritið á netinu eins og lýst var að ofan. Sýnið niðurstöðu leitarinnar þegar\n",
        "við viljum komast frá Meistaravöllum (ath. það eru tvær stöðvar með þessu nafni) til FB,\n",
        "kl 11:30."
      ]
    },
    {
      "cell_type": "code",
      "execution_count": 83,
      "metadata": {
        "id": "EFJDV7nX6ipL"
      },
      "outputs": [
        {
          "ename": "KeyError",
          "evalue": "'Meistaravellir'",
          "output_type": "error",
          "traceback": [
            "\u001b[0;31m---------------------------------------------------------------------------\u001b[0m",
            "\u001b[0;31mKeyError\u001b[0m                                  Traceback (most recent call last)",
            "Cell \u001b[0;32mIn[83], line 25\u001b[0m\n\u001b[1;32m     21\u001b[0m     \u001b[38;5;28;01mreturn\u001b[39;00m visited\u001b[38;5;241m.\u001b[39mget(destination, \u001b[38;5;28;01mNone\u001b[39;00m)\n\u001b[1;32m     24\u001b[0m \u001b[38;5;66;03m# Dæmi um hvernig þú myndir kalla á þetta fall\u001b[39;00m\n\u001b[0;32m---> 25\u001b[0m \u001b[38;5;28mprint\u001b[39m(\u001b[43mfind_route\u001b[49m\u001b[43m(\u001b[49m\u001b[38;5;124;43m'\u001b[39;49m\u001b[38;5;124;43mMeistaravellir\u001b[39;49m\u001b[38;5;124;43m'\u001b[39;49m\u001b[43m,\u001b[49m\u001b[43m \u001b[49m\u001b[38;5;124;43m'\u001b[39;49m\u001b[38;5;124;43mFB\u001b[39;49m\u001b[38;5;124;43m'\u001b[39;49m\u001b[43m,\u001b[49m\u001b[43m \u001b[49m\u001b[38;5;124;43m'\u001b[39;49m\u001b[38;5;124;43m11:30\u001b[39;49m\u001b[38;5;124;43m'\u001b[39;49m\u001b[43m)\u001b[49m)\n",
            "Cell \u001b[0;32mIn[83], line 11\u001b[0m, in \u001b[0;36mfind_route\u001b[0;34m(start, destination, start_time)\u001b[0m\n\u001b[1;32m      8\u001b[0m current_stop, current_time \u001b[38;5;241m=\u001b[39m heapq\u001b[38;5;241m.\u001b[39mheappop(pq)\n\u001b[1;32m     10\u001b[0m \u001b[38;5;66;03m# Skoða næsta stopp\u001b[39;00m\n\u001b[0;32m---> 11\u001b[0m \u001b[38;5;28;01mfor\u001b[39;00m next_stop, travel_time \u001b[38;5;129;01min\u001b[39;00m \u001b[43mG\u001b[49m\u001b[43m[\u001b[49m\u001b[43mcurrent_stop\u001b[49m\u001b[43m]\u001b[49m:\n\u001b[1;32m     12\u001b[0m     arrival_time \u001b[38;5;241m=\u001b[39m \u001b[38;5;28mmax\u001b[39m(current_time, travel_time)\n\u001b[1;32m     14\u001b[0m     \u001b[38;5;66;03m# Slaka á hnútum ef það finnst betri leið\u001b[39;00m\n",
            "\u001b[0;31mKeyError\u001b[0m: 'Meistaravellir'"
          ]
        }
      ],
      "source": [
        "import heapq\n",
        "def find_route(start, destination, start_time):\n",
        "    # breytum tímanum úr steng í datetime.time hlut\n",
        "    start_time = pd.to_datetime(start_time).time()\n",
        "    # Búa til forgangsbiðröð og byrja með upphafsstöð\n",
        "    pq = [(start, start_time)]\n",
        "    visited = {start: start_time}\n",
        "    \n",
        "    while pq:\n",
        "        current_stop, current_time = heapq.heappop(pq)\n",
        "        \n",
        "        # Skoða næsta stopp\n",
        "        for next_stop, travel_time in G[current_stop]:\n",
        "            arrival_time = max(current_time, travel_time)\n",
        "            \n",
        "            # Slaka á hnútum ef það finnst betri leið\n",
        "            if next_stop not in visited or arrival_time < visited[next_stop]:\n",
        "                visited[next_stop] = arrival_time\n",
        "                heapq.heappush(pq, (next_stop, arrival_time))\n",
        "                if next_stop == destination:\n",
        "                    return visited[next_stop]\n",
        "    \n",
        "    return visited.get(destination, None)\n",
        "\n",
        "\n",
        "# Dæmi um hvernig þú myndir kalla á þetta fall\n",
        "print(find_route('Meistaravellir', 'FB', '11:30'))"
      ]
    },
    {
      "cell_type": "code",
      "execution_count": null,
      "metadata": {},
      "outputs": [],
      "source": []
    },
    {
      "cell_type": "markdown",
      "metadata": {
        "id": "Z3gCShNm6m7n"
      },
      "source": [
        "\n",
        "## 2.3.3 Framsetning (⋆)\n",
        "Takið löglega leið og búið til leiðarlýsingu, þ.e. hvaða vagn á að taka klukkan hvað og hvar\n",
        "á að skipta um stöð, svipað og gert er á myndinni að ofan."
      ]
    },
    {
      "cell_type": "code",
      "execution_count": null,
      "metadata": {
        "id": "lB7vUhIA-IOi"
      },
      "outputs": [],
      "source": [
        "\n",
        "# class Node:  # Hnutur\n",
        "#     def __init__(self, name: str):\n",
        "#         self.name = name  # Name of the stop\n",
        "\n",
        "# class Edge:  # Leggur\n",
        "#     def __init__(self, start: Node, end: Node, start_time: str, end_time: str):\n",
        "#         self.start = start  # Starting stop\n",
        "#         self.end = end  # Ending stop\n",
        "#         self.start_time = start_time  # Departure time from the start stop\n",
        "#         self.end_time = end_time  # Arrival time at the end stop\n"
      ]
    },
    {
      "cell_type": "markdown",
      "metadata": {
        "id": "DlUdqF_b-JJ-"
      },
      "source": [
        "## 2.3.4 Labb (⋆⋆)\n",
        "Sumar stoppistöðvar eru nálægt hvor annari en ekki hægt að taka strætó á milli þeirra. Breytið netinu og reikniritinu ykkar til að höndla þetta tilfelli, notið GPS hnitin sem eru gefin í gögnunum og veljið hæfilega fjarlægð sem þið eruð til í að láta fólk labba. T.d. er hægt að labba úr 13 í Suðurveri yfir í 4 á Kringlumýrarbraut en 13 stoppar ekki þar. Sýnið dæmi um leið þar sem komutími styttist við að leyfa labb. Þessi aðferð við að tengja saman stöðvar er ekki fullkomin og sýnir að oft er mikilvægara að hafa aðgang að betri gögnum, t.d. eru stoppistöðvar nálægt í planinu en taka langan tíma að labba á milli."
      ]
    },
    {
      "cell_type": "code",
      "execution_count": null,
      "metadata": {
        "id": "PIjJFxAi-Zpo"
      },
      "outputs": [],
      "source": []
    },
    {
      "cell_type": "markdown",
      "metadata": {
        "id": "QC_lhorw-d1y"
      },
      "source": [
        "## 2.3.5 Tímamælingar (⋆)\n",
        "Mælið fjölda fyrirspurna sem aðferðin ykkar getur svarað á sekúndu. Tryggið að mælingarnar blandi stuttum og löngum leiðum með ólíkum tímum."
      ]
    },
    {
      "cell_type": "code",
      "execution_count": null,
      "metadata": {
        "id": "izKrefM8-lRW"
      },
      "outputs": [],
      "source": []
    },
    {
      "cell_type": "markdown",
      "metadata": {
        "id": "Rqh_ukIH-mDK"
      },
      "source": [
        "## 2.3.6 Bestun og gagnagrindur (⋆⋆)\n",
        "Notið niðurstöður úr tímamælingu til að ná betri afköstum. Hér skiptir máli hvernig framsetningin á netinu er framkvæmd, hvaða gagnagrindur eru notaðar og hvort hægt sé að bæta eitthvað."
      ]
    },
    {
      "cell_type": "code",
      "execution_count": null,
      "metadata": {
        "id": "mswynGcM-vmp"
      },
      "outputs": [],
      "source": []
    },
    {
      "cell_type": "markdown",
      "metadata": {
        "id": "Jl7o8cvj-wQA"
      },
      "source": [
        "## 2.3.7 Færri skiptingar (⋆⋆)\n",
        "Í einhverjum tilfellum eru margar ólíkar leiðir sem taka jafnlangan tíma, þ.e. seinasti vagninn kemur á áfangastað á sama tíma en fjöldi vagna sem er tekinn er ekki sá sami. Útskýrið hvernig er hægt að breyta reikniritinu til skipta sem sjaldnast um vagn og útfærið þetta á netinu. Sýnið dæmi um strætóferð þar sem niðurstaðan breytist."
      ]
    },
    {
      "cell_type": "code",
      "execution_count": null,
      "metadata": {
        "id": "r7SBJEs4-87J"
      },
      "outputs": [],
      "source": []
    },
    {
      "cell_type": "markdown",
      "metadata": {
        "id": "apv5FjEs_BH4"
      },
      "source": [
        "## 2.3.8 A(⋆⋆⋆)\n",
        "Útfærið A∗ reikniritið (sjá kafla 10.8 í https://people.mpi-inf.mpg.de/~mehlhorn/ftp/\n",
        "NewToolbox/spath.pdf) með því að velja heppilegt fjarlægðarfall f . Sýnið að fjarlægðar-\n",
        "fallið sem er valið sé löglegt, þ.e. reikniritið skilar alltaf réttum niðurstöðum, og framkvæmið\n",
        "tímamælingar sem mæla hversu miklu þessi breyting skilar."
      ]
    },
    {
      "cell_type": "markdown",
      "metadata": {
        "id": "FOHCx6Ni_NLz"
      },
      "source": [
        "## 2.3.9 Pokémon (⋆ ⋆ ⋆)\n",
        "Finnið þá leið sem tekur mestan fjölda vagna. Athugið að þetta verkefni er mögulega NP-erfitt, takið eftir að netið eins og það er sett upp er ekki DAG (stefnt óhringað net) en það má breyta því í DAG með því að taka út hnútana sem samsvara stoppistöðvum og bæta við hnút fyrir stoppistöð og hvern tímapunkt (x, t), þá setjum við legg frá (x, t) til (x, t′) ef t′ er næsti tímapunktur fyrir þessa stöppistöð og legg sem fara frá (x, t) til v ef vagn fer frá x á tíma t.\n",
        "\n",
        "Finnið, með einhverju móti, lengstu mögulegu leið sem tekur sem flesta ólíka strætis-\n",
        "vagnaleiðir."
      ]
    },
    {
      "cell_type": "code",
      "execution_count": null,
      "metadata": {
        "id": "rvSRWPQD_eVZ"
      },
      "outputs": [],
      "source": []
    }
  ],
  "metadata": {
    "colab": {
      "provenance": [],
      "toc_visible": true
    },
    "kernelspec": {
      "display_name": "Python 3",
      "name": "python3"
    },
    "language_info": {
      "codemirror_mode": {
        "name": "ipython",
        "version": 3
      },
      "file_extension": ".py",
      "mimetype": "text/x-python",
      "name": "python",
      "nbconvert_exporter": "python",
      "pygments_lexer": "ipython3",
      "version": "3.11.7"
    }
  },
  "nbformat": 4,
  "nbformat_minor": 0
}
